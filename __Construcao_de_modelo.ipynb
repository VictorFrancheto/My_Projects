{
  "cells": [
    {
      "cell_type": "markdown",
      "metadata": {
        "id": "view-in-github",
        "colab_type": "text"
      },
      "source": [
        "<a href=\"https://colab.research.google.com/github/VictorFrancheto/My_Projects/blob/main/__Construcao_de_modelo.ipynb\" target=\"_parent\"><img src=\"https://colab.research.google.com/assets/colab-badge.svg\" alt=\"Open In Colab\"/></a>"
      ]
    },
    {
      "cell_type": "markdown",
      "metadata": {
        "id": "-ZL-g34uRyIJ"
      },
      "source": [
        "## Aplicando modelo final - fieis 20190830"
      ]
    },
    {
      "cell_type": "code",
      "execution_count": null,
      "metadata": {
        "collapsed": true,
        "id": "dDO_KpOlRyIT"
      },
      "outputs": [],
      "source": [
        "import pandas as pd\n",
        "import numpy as np\n",
        "import matplotlib.pyplot as plt\n",
        "from IPython.display import display\n",
        "import seaborn as sns\n",
        "pd.options.mode.chained_assignment = None  #hide any pandas warnings\n",
        "\n",
        "import warnings\n",
        "warnings.filterwarnings(\"ignore\", category=FutureWarning)\n"
      ]
    },
    {
      "cell_type": "markdown",
      "metadata": {
        "id": "0euQLryoRyIb"
      },
      "source": [
        "### Importa Arquivo"
      ]
    },
    {
      "cell_type": "code",
      "execution_count": null,
      "metadata": {
        "id": "Ab9reqRKRyIc",
        "outputId": "149cfe0d-bec8-4898-ec68-04c5e139c939"
      },
      "outputs": [
        {
          "data": {
            "text/html": [
              "<div>\n",
              "<style scoped>\n",
              "    .dataframe tbody tr th:only-of-type {\n",
              "        vertical-align: middle;\n",
              "    }\n",
              "\n",
              "    .dataframe tbody tr th {\n",
              "        vertical-align: top;\n",
              "    }\n",
              "\n",
              "    .dataframe thead th {\n",
              "        text-align: right;\n",
              "    }\n",
              "</style>\n",
              "<table border=\"1\" class=\"dataframe\">\n",
              "  <thead>\n",
              "    <tr style=\"text-align: right;\">\n",
              "      <th></th>\n",
              "      <th>CodCli</th>\n",
              "      <th>SAFRA_COMPRA</th>\n",
              "      <th>TP_CARTAO</th>\n",
              "      <th>DtPrimCompra</th>\n",
              "      <th>SEGMENTO</th>\n",
              "      <th>FLG_PF</th>\n",
              "      <th>PF_CANCELADO</th>\n",
              "      <th>flg_saque_facil_ativo</th>\n",
              "      <th>flg_saque_facil_inativo</th>\n",
              "      <th>flg_emprestimo_ativo</th>\n",
              "      <th>...</th>\n",
              "      <th>UF</th>\n",
              "      <th>CodRegiao</th>\n",
              "      <th>CLUSTER</th>\n",
              "      <th>F_CODCA</th>\n",
              "      <th>perc_utilizacao</th>\n",
              "      <th>FX_LIM2</th>\n",
              "      <th>ValLimCred</th>\n",
              "      <th>FLG_CONHECE_EMPRESITMO</th>\n",
              "      <th>fx_perc_utilizacao</th>\n",
              "      <th>TARGET_9</th>\n",
              "    </tr>\n",
              "  </thead>\n",
              "  <tbody>\n",
              "    <tr>\n",
              "      <th>0</th>\n",
              "      <td>2002053536</td>\n",
              "      <td>200010</td>\n",
              "      <td>PL</td>\n",
              "      <td>2000-10-13</td>\n",
              "      <td>02.ALTO</td>\n",
              "      <td>1</td>\n",
              "      <td>0</td>\n",
              "      <td>0</td>\n",
              "      <td>1</td>\n",
              "      <td>0</td>\n",
              "      <td>...</td>\n",
              "      <td>SP</td>\n",
              "      <td>SE</td>\n",
              "      <td>2.0</td>\n",
              "      <td>0</td>\n",
              "      <td>0.000000</td>\n",
              "      <td>a.POLIT_ANTIG</td>\n",
              "      <td>1890.0</td>\n",
              "      <td>1</td>\n",
              "      <td>B - ATE 10%</td>\n",
              "      <td>0</td>\n",
              "    </tr>\n",
              "    <tr>\n",
              "      <th>1</th>\n",
              "      <td>2002600309</td>\n",
              "      <td>200010</td>\n",
              "      <td>PL</td>\n",
              "      <td>2000-10-07</td>\n",
              "      <td>02.ALTO</td>\n",
              "      <td>0</td>\n",
              "      <td>0</td>\n",
              "      <td>0</td>\n",
              "      <td>0</td>\n",
              "      <td>0</td>\n",
              "      <td>...</td>\n",
              "      <td>SP</td>\n",
              "      <td>SE</td>\n",
              "      <td>3.0</td>\n",
              "      <td>0</td>\n",
              "      <td>0.306041</td>\n",
              "      <td>a.POLIT_ANTIG</td>\n",
              "      <td>2660.0</td>\n",
              "      <td>0</td>\n",
              "      <td>E - 30% - 40%</td>\n",
              "      <td>0</td>\n",
              "    </tr>\n",
              "    <tr>\n",
              "      <th>2</th>\n",
              "      <td>2002600479</td>\n",
              "      <td>200805</td>\n",
              "      <td>BANDEIRA</td>\n",
              "      <td>2018-04-18</td>\n",
              "      <td>03.MEDIO</td>\n",
              "      <td>1</td>\n",
              "      <td>0</td>\n",
              "      <td>1</td>\n",
              "      <td>1</td>\n",
              "      <td>0</td>\n",
              "      <td>...</td>\n",
              "      <td>PR</td>\n",
              "      <td>S</td>\n",
              "      <td>NaN</td>\n",
              "      <td>0</td>\n",
              "      <td>1.052500</td>\n",
              "      <td>a.POLIT_ANTIG</td>\n",
              "      <td>250.0</td>\n",
              "      <td>1</td>\n",
              "      <td>M - &gt; 100%</td>\n",
              "      <td>0</td>\n",
              "    </tr>\n",
              "    <tr>\n",
              "      <th>3</th>\n",
              "      <td>2002600924</td>\n",
              "      <td>200010</td>\n",
              "      <td>BANDEIRA</td>\n",
              "      <td>2000-10-25</td>\n",
              "      <td>01.VIP</td>\n",
              "      <td>1</td>\n",
              "      <td>0</td>\n",
              "      <td>0</td>\n",
              "      <td>0</td>\n",
              "      <td>0</td>\n",
              "      <td>...</td>\n",
              "      <td>SP</td>\n",
              "      <td>SE</td>\n",
              "      <td>NaN</td>\n",
              "      <td>0</td>\n",
              "      <td>0.242080</td>\n",
              "      <td>a.POLIT_ANTIG</td>\n",
              "      <td>0.0</td>\n",
              "      <td>0</td>\n",
              "      <td>D - 20% - 30%</td>\n",
              "      <td>1</td>\n",
              "    </tr>\n",
              "    <tr>\n",
              "      <th>4</th>\n",
              "      <td>2002600957</td>\n",
              "      <td>200010</td>\n",
              "      <td>PL_COM_BAND_EMITIDO</td>\n",
              "      <td>2000-10-30</td>\n",
              "      <td>03.MEDIO</td>\n",
              "      <td>0</td>\n",
              "      <td>0</td>\n",
              "      <td>0</td>\n",
              "      <td>0</td>\n",
              "      <td>0</td>\n",
              "      <td>...</td>\n",
              "      <td>SP</td>\n",
              "      <td>SE</td>\n",
              "      <td>2.0</td>\n",
              "      <td>0</td>\n",
              "      <td>0.086529</td>\n",
              "      <td>a.POLIT_ANTIG</td>\n",
              "      <td>2400.0</td>\n",
              "      <td>0</td>\n",
              "      <td>B - ATE 10%</td>\n",
              "      <td>1</td>\n",
              "    </tr>\n",
              "  </tbody>\n",
              "</table>\n",
              "<p>5 rows × 37 columns</p>\n",
              "</div>"
            ],
            "text/plain": [
              "       CodCli  SAFRA_COMPRA            TP_CARTAO DtPrimCompra  SEGMENTO  \\\n",
              "0  2002053536        200010                   PL   2000-10-13   02.ALTO   \n",
              "1  2002600309        200010                   PL   2000-10-07   02.ALTO   \n",
              "2  2002600479        200805             BANDEIRA   2018-04-18  03.MEDIO   \n",
              "3  2002600924        200010             BANDEIRA   2000-10-25    01.VIP   \n",
              "4  2002600957        200010  PL_COM_BAND_EMITIDO   2000-10-30  03.MEDIO   \n",
              "\n",
              "   FLG_PF  PF_CANCELADO  flg_saque_facil_ativo  flg_saque_facil_inativo  \\\n",
              "0       1             0                      0                        1   \n",
              "1       0             0                      0                        0   \n",
              "2       1             0                      1                        1   \n",
              "3       1             0                      0                        0   \n",
              "4       0             0                      0                        0   \n",
              "\n",
              "   flg_emprestimo_ativo  ...  UF  CodRegiao  CLUSTER  F_CODCA  \\\n",
              "0                     0  ...  SP         SE      2.0        0   \n",
              "1                     0  ...  SP         SE      3.0        0   \n",
              "2                     0  ...  PR          S      NaN        0   \n",
              "3                     0  ...  SP         SE      NaN        0   \n",
              "4                     0  ...  SP         SE      2.0        0   \n",
              "\n",
              "   perc_utilizacao        FX_LIM2  ValLimCred  FLG_CONHECE_EMPRESITMO  \\\n",
              "0         0.000000  a.POLIT_ANTIG      1890.0                       1   \n",
              "1         0.306041  a.POLIT_ANTIG      2660.0                       0   \n",
              "2         1.052500  a.POLIT_ANTIG       250.0                       1   \n",
              "3         0.242080  a.POLIT_ANTIG         0.0                       0   \n",
              "4         0.086529  a.POLIT_ANTIG      2400.0                       0   \n",
              "\n",
              "   fx_perc_utilizacao  TARGET_9  \n",
              "0         B - ATE 10%         0  \n",
              "1       E - 30% - 40%         0  \n",
              "2          M - > 100%         0  \n",
              "3       D - 20% - 30%         1  \n",
              "4         B - ATE 10%         1  \n",
              "\n",
              "[5 rows x 37 columns]"
            ]
          },
          "execution_count": 2,
          "metadata": {},
          "output_type": "execute_result"
        }
      ],
      "source": [
        "caminho_arq = 'C:\\\\Users\\\\60002991\\\\_Modelos_dna\\\\'\n",
        "df = pd.read_csv(caminho_arq + 'AMOSTRA_FIEL.txt',sep=\";\", encoding = 'latin-')\n",
        "df.head()\n"
      ]
    },
    {
      "cell_type": "markdown",
      "metadata": {
        "id": "8oUALUkWRyIf"
      },
      "source": [
        "# Explorando e ajustando base"
      ]
    },
    {
      "cell_type": "code",
      "execution_count": null,
      "metadata": {
        "collapsed": true,
        "id": "1aMIVxVHRyIg"
      },
      "outputs": [],
      "source": [
        "#base para criacao do modelo nao precisa ter o id cliente\n",
        "df = df.copy().set_index('CodCli')"
      ]
    },
    {
      "cell_type": "markdown",
      "metadata": {
        "id": "gw1_Iz8PRyIg"
      },
      "source": [
        "### Ajuste variaveis com missing"
      ]
    },
    {
      "cell_type": "code",
      "execution_count": null,
      "metadata": {
        "id": "6G85p27eRyIh",
        "outputId": "565c266d-26fa-4c86-f2ca-248bfff60d10"
      },
      "outputs": [
        {
          "data": {
            "text/html": [
              "<div>\n",
              "<style scoped>\n",
              "    .dataframe tbody tr th:only-of-type {\n",
              "        vertical-align: middle;\n",
              "    }\n",
              "\n",
              "    .dataframe tbody tr th {\n",
              "        vertical-align: top;\n",
              "    }\n",
              "\n",
              "    .dataframe thead th {\n",
              "        text-align: right;\n",
              "    }\n",
              "</style>\n",
              "<table border=\"1\" class=\"dataframe\">\n",
              "  <thead>\n",
              "    <tr style=\"text-align: right;\">\n",
              "      <th></th>\n",
              "      <th>No of Nulls</th>\n",
              "    </tr>\n",
              "  </thead>\n",
              "  <tbody>\n",
              "    <tr>\n",
              "      <th>CLUSTER</th>\n",
              "      <td>37629</td>\n",
              "    </tr>\n",
              "    <tr>\n",
              "      <th>perc_utilizacao</th>\n",
              "      <td>21419</td>\n",
              "    </tr>\n",
              "  </tbody>\n",
              "</table>\n",
              "</div>"
            ],
            "text/plain": [
              "                 No of Nulls\n",
              "CLUSTER                37629\n",
              "perc_utilizacao        21419"
            ]
          },
          "execution_count": 4,
          "metadata": {},
          "output_type": "execute_result"
        }
      ],
      "source": [
        "#lista de variaveis com missin\n",
        "null_values = df.columns[df.isnull().any()]\n",
        "null_features = df[null_values].isnull().sum().sort_values(ascending = False)\n",
        "missing_df = pd.DataFrame({'No of Nulls' :null_features})\n",
        "missing_df"
      ]
    },
    {
      "cell_type": "code",
      "execution_count": null,
      "metadata": {
        "collapsed": true,
        "id": "kOdVp_NiRyIi"
      },
      "outputs": [],
      "source": [
        "#transforma missing em -9999\n",
        "df['CLUSTER'] = df[['CLUSTER']].fillna(-99999)\n",
        "df['perc_utilizacao'] = df[['perc_utilizacao']].fillna(-99999)"
      ]
    },
    {
      "cell_type": "markdown",
      "metadata": {
        "id": "xwPuGmzZRyIl"
      },
      "source": [
        "### Agrupamento de variavies categoricas"
      ]
    },
    {
      "cell_type": "code",
      "execution_count": null,
      "metadata": {
        "id": "YNchWe76RyIo",
        "outputId": "3ed9de56-41c0-463c-957b-91271f98add7"
      },
      "outputs": [
        {
          "data": {
            "text/plain": [
              "Index(['SP', 'RJ', 'PE', 'BA', 'MG', 'CE', 'RS', 'RN', 'PA', 'PR', 'GO', 'AM',\n",
              "       'MA', 'DF', 'SC', 'AL', 'PB'],\n",
              "      dtype='object')"
            ]
          },
          "execution_count": 6,
          "metadata": {},
          "output_type": "execute_result"
        }
      ],
      "source": [
        "#contador de variavel com mais de 4000 observaçoes\n",
        "df_count_var = df['UF'].fillna('missing').value_counts(dropna= False)\n",
        "df_count_var[df_count_var>=4000].index"
      ]
    },
    {
      "cell_type": "code",
      "execution_count": null,
      "metadata": {
        "id": "zkLv-UcNRyIq",
        "outputId": "729bb530-8b44-4337-9f0e-85f19cc3decd"
      },
      "outputs": [
        {
          "data": {
            "text/html": [
              "<div>\n",
              "<style scoped>\n",
              "    .dataframe tbody tr th:only-of-type {\n",
              "        vertical-align: middle;\n",
              "    }\n",
              "\n",
              "    .dataframe tbody tr th {\n",
              "        vertical-align: top;\n",
              "    }\n",
              "\n",
              "    .dataframe thead th {\n",
              "        text-align: right;\n",
              "    }\n",
              "</style>\n",
              "<table border=\"1\" class=\"dataframe\">\n",
              "  <thead>\n",
              "    <tr style=\"text-align: right;\">\n",
              "      <th></th>\n",
              "      <th>mean</th>\n",
              "      <th>size</th>\n",
              "    </tr>\n",
              "    <tr>\n",
              "      <th>UF_g</th>\n",
              "      <th></th>\n",
              "      <th></th>\n",
              "    </tr>\n",
              "  </thead>\n",
              "  <tbody>\n",
              "    <tr>\n",
              "      <th>SC</th>\n",
              "      <td>0.554847</td>\n",
              "      <td>4704</td>\n",
              "    </tr>\n",
              "    <tr>\n",
              "      <th>PR</th>\n",
              "      <td>0.594019</td>\n",
              "      <td>8126</td>\n",
              "    </tr>\n",
              "    <tr>\n",
              "      <th>RS</th>\n",
              "      <td>0.597595</td>\n",
              "      <td>8648</td>\n",
              "    </tr>\n",
              "    <tr>\n",
              "      <th>SP</th>\n",
              "      <td>0.602588</td>\n",
              "      <td>42266</td>\n",
              "    </tr>\n",
              "    <tr>\n",
              "      <th>MG</th>\n",
              "      <td>0.602693</td>\n",
              "      <td>11213</td>\n",
              "    </tr>\n",
              "    <tr>\n",
              "      <th>RJ</th>\n",
              "      <td>0.604730</td>\n",
              "      <td>19875</td>\n",
              "    </tr>\n",
              "    <tr>\n",
              "      <th>DF</th>\n",
              "      <td>0.608569</td>\n",
              "      <td>5858</td>\n",
              "    </tr>\n",
              "    <tr>\n",
              "      <th>outros</th>\n",
              "      <td>0.609136</td>\n",
              "      <td>20731</td>\n",
              "    </tr>\n",
              "    <tr>\n",
              "      <th>CE</th>\n",
              "      <td>0.610090</td>\n",
              "      <td>8702</td>\n",
              "    </tr>\n",
              "    <tr>\n",
              "      <th>GO</th>\n",
              "      <td>0.610468</td>\n",
              "      <td>7604</td>\n",
              "    </tr>\n",
              "    <tr>\n",
              "      <th>AM</th>\n",
              "      <td>0.619495</td>\n",
              "      <td>6176</td>\n",
              "    </tr>\n",
              "    <tr>\n",
              "      <th>PA</th>\n",
              "      <td>0.622287</td>\n",
              "      <td>8292</td>\n",
              "    </tr>\n",
              "    <tr>\n",
              "      <th>MA</th>\n",
              "      <td>0.629786</td>\n",
              "      <td>5929</td>\n",
              "    </tr>\n",
              "    <tr>\n",
              "      <th>PE</th>\n",
              "      <td>0.634894</td>\n",
              "      <td>12621</td>\n",
              "    </tr>\n",
              "    <tr>\n",
              "      <th>PB</th>\n",
              "      <td>0.641242</td>\n",
              "      <td>4510</td>\n",
              "    </tr>\n",
              "    <tr>\n",
              "      <th>BA</th>\n",
              "      <td>0.647676</td>\n",
              "      <td>11725</td>\n",
              "    </tr>\n",
              "    <tr>\n",
              "      <th>AL</th>\n",
              "      <td>0.655770</td>\n",
              "      <td>4558</td>\n",
              "    </tr>\n",
              "    <tr>\n",
              "      <th>RN</th>\n",
              "      <td>0.664027</td>\n",
              "      <td>8462</td>\n",
              "    </tr>\n",
              "  </tbody>\n",
              "</table>\n",
              "</div>"
            ],
            "text/plain": [
              "            mean   size\n",
              "UF_g                   \n",
              "SC      0.554847   4704\n",
              "PR      0.594019   8126\n",
              "RS      0.597595   8648\n",
              "SP      0.602588  42266\n",
              "MG      0.602693  11213\n",
              "RJ      0.604730  19875\n",
              "DF      0.608569   5858\n",
              "outros  0.609136  20731\n",
              "CE      0.610090   8702\n",
              "GO      0.610468   7604\n",
              "AM      0.619495   6176\n",
              "PA      0.622287   8292\n",
              "MA      0.629786   5929\n",
              "PE      0.634894  12621\n",
              "PB      0.641242   4510\n",
              "BA      0.647676  11725\n",
              "AL      0.655770   4558\n",
              "RN      0.664027   8462"
            ]
          },
          "execution_count": 7,
          "metadata": {},
          "output_type": "execute_result"
        }
      ],
      "source": [
        "#agrupa variavel uf e profissao\n",
        "def create_agrupamento_uf(df):\n",
        "    if df['UF'] not in [\n",
        "     'SP', 'RJ', 'PE', 'BA', 'MG', 'RS', 'CE', 'RN', 'PA', 'PR', 'GO', 'AM',\n",
        "       'MA', 'DF', 'SC', 'AL', 'PB' ]:\n",
        "        return 'outros'\n",
        "    else :\n",
        "        return df['UF']\n",
        "\n",
        "df_count_var = df['UF'].fillna('missing').value_counts(dropna= False)\n",
        "df['UF_g'] = df[['UF']].fillna('missing').apply(create_agrupamento_uf,axis= 1)\n",
        "\n",
        "df[['UF_g','TARGET_9']].fillna('missing').groupby('UF_g').agg({'TARGET_9':[np.mean, np.size]})['TARGET_9'].sort_values(by='mean')\n",
        "\n",
        ""
      ]
    },
    {
      "cell_type": "code",
      "execution_count": null,
      "metadata": {
        "id": "ztUgy4iyRyIs",
        "outputId": "ed58d2b3-4235-45ad-ff40-a0135ab82bd2"
      },
      "outputs": [
        {
          "data": {
            "text/plain": [
              "Index(['AUTONOMO', 'COMERCIARIOS', 'ASSALARIADOS', 'APOSENTADO E PENSIONISTA',\n",
              "       'FUNC. PUBLICO MUNICIPAL', 'FUNC. PUBLICO ESTADUAL',\n",
              "       'APOSENT,PENS,SERV PUBLICO', 'ESTUDANTE', 'PROFESSORES',\n",
              "       'INDUSTRIARIOS, MESTRES'],\n",
              "      dtype='object')"
            ]
          },
          "execution_count": 8,
          "metadata": {},
          "output_type": "execute_result"
        }
      ],
      "source": [
        "#contador de variavel com mais de 4000 observaçoes\n",
        "df_count_var = df['DescCategProf'].fillna('missing').value_counts(dropna= False)\n",
        "df_count_var[df_count_var>=4000].index"
      ]
    },
    {
      "cell_type": "code",
      "execution_count": null,
      "metadata": {
        "id": "PIRSDWGwRyIt",
        "outputId": "9bad09c9-3991-435f-8fa8-c4a38abdb7ca"
      },
      "outputs": [
        {
          "data": {
            "text/html": [
              "<div>\n",
              "<style scoped>\n",
              "    .dataframe tbody tr th:only-of-type {\n",
              "        vertical-align: middle;\n",
              "    }\n",
              "\n",
              "    .dataframe tbody tr th {\n",
              "        vertical-align: top;\n",
              "    }\n",
              "\n",
              "    .dataframe thead th {\n",
              "        text-align: right;\n",
              "    }\n",
              "</style>\n",
              "<table border=\"1\" class=\"dataframe\">\n",
              "  <thead>\n",
              "    <tr style=\"text-align: right;\">\n",
              "      <th></th>\n",
              "      <th>mean</th>\n",
              "      <th>size</th>\n",
              "    </tr>\n",
              "    <tr>\n",
              "      <th>DescCategProf_g</th>\n",
              "      <th></th>\n",
              "      <th></th>\n",
              "    </tr>\n",
              "  </thead>\n",
              "  <tbody>\n",
              "    <tr>\n",
              "      <th>INDUSTRIARIOS, MESTRES</th>\n",
              "      <td>0.568563</td>\n",
              "      <td>4587</td>\n",
              "    </tr>\n",
              "    <tr>\n",
              "      <th>ASSALARIADOS</th>\n",
              "      <td>0.594288</td>\n",
              "      <td>27766</td>\n",
              "    </tr>\n",
              "    <tr>\n",
              "      <th>COMERCIARIOS</th>\n",
              "      <td>0.596079</td>\n",
              "      <td>31932</td>\n",
              "    </tr>\n",
              "    <tr>\n",
              "      <th>AUTONOMO</th>\n",
              "      <td>0.596204</td>\n",
              "      <td>51796</td>\n",
              "    </tr>\n",
              "    <tr>\n",
              "      <th>ESTUDANTE</th>\n",
              "      <td>0.613909</td>\n",
              "      <td>5162</td>\n",
              "    </tr>\n",
              "    <tr>\n",
              "      <th>APOSENTADO E PENSIONISTA</th>\n",
              "      <td>0.627589</td>\n",
              "      <td>13614</td>\n",
              "    </tr>\n",
              "    <tr>\n",
              "      <th>outros</th>\n",
              "      <td>0.629762</td>\n",
              "      <td>36066</td>\n",
              "    </tr>\n",
              "    <tr>\n",
              "      <th>FUNC. PUBLICO MUNICIPAL</th>\n",
              "      <td>0.656804</td>\n",
              "      <td>9362</td>\n",
              "    </tr>\n",
              "    <tr>\n",
              "      <th>APOSENT,PENS,SERV PUBLICO</th>\n",
              "      <td>0.665710</td>\n",
              "      <td>5576</td>\n",
              "    </tr>\n",
              "    <tr>\n",
              "      <th>FUNC. PUBLICO ESTADUAL</th>\n",
              "      <td>0.671127</td>\n",
              "      <td>9192</td>\n",
              "    </tr>\n",
              "    <tr>\n",
              "      <th>PROFESSORES</th>\n",
              "      <td>0.675561</td>\n",
              "      <td>4947</td>\n",
              "    </tr>\n",
              "  </tbody>\n",
              "</table>\n",
              "</div>"
            ],
            "text/plain": [
              "                               mean   size\n",
              "DescCategProf_g                           \n",
              "INDUSTRIARIOS, MESTRES     0.568563   4587\n",
              "ASSALARIADOS               0.594288  27766\n",
              "COMERCIARIOS               0.596079  31932\n",
              "AUTONOMO                   0.596204  51796\n",
              "ESTUDANTE                  0.613909   5162\n",
              "APOSENTADO E PENSIONISTA   0.627589  13614\n",
              "outros                     0.629762  36066\n",
              "FUNC. PUBLICO MUNICIPAL    0.656804   9362\n",
              "APOSENT,PENS,SERV PUBLICO  0.665710   5576\n",
              "FUNC. PUBLICO ESTADUAL     0.671127   9192\n",
              "PROFESSORES                0.675561   4947"
            ]
          },
          "execution_count": 9,
          "metadata": {},
          "output_type": "execute_result"
        }
      ],
      "source": [
        "def create_agrupamento_DescCategProf(df):\n",
        "    if df['DescCategProf'] not in [\n",
        "       'AUTONOMO', 'COMERCIARIOS', 'ASSALARIADOS', 'APOSENTADO E PENSIONISTA',\n",
        "       'FUNC. PUBLICO MUNICIPAL', 'FUNC. PUBLICO ESTADUAL',\n",
        "       'APOSENT,PENS,SERV PUBLICO', 'ESTUDANTE', 'PROFESSORES',\n",
        "       'INDUSTRIARIOS, MESTRES']:\n",
        "        return 'outros'\n",
        "    else :\n",
        "        return df['DescCategProf']\n",
        "\n",
        "df_count_var = df['DescCategProf'].fillna('missing').value_counts(dropna= False)\n",
        "df['DescCategProf_g'] = df[['DescCategProf']].fillna('missing').apply(create_agrupamento_DescCategProf,axis= 1)\n",
        "\n",
        "df[['DescCategProf_g','TARGET_9']].fillna('missing').groupby('DescCategProf_g').agg({'TARGET_9':[np.mean, np.size]})['TARGET_9'].sort_values(by='mean')\n"
      ]
    },
    {
      "cell_type": "code",
      "execution_count": null,
      "metadata": {
        "id": "6EhQ5hxKRyIu",
        "outputId": "83f8f426-29fc-475e-d02a-35f94eb5fb0f"
      },
      "outputs": [
        {
          "data": {
            "text/plain": [
              "Index(['PROPRIA QUITADA', 'COM OS PAIS', 'ALUGADA', 'CEDIDA', 'OUTROS',\n",
              "       'PROPRIA FINANCIADA'],\n",
              "      dtype='object')"
            ]
          },
          "execution_count": 10,
          "metadata": {},
          "output_type": "execute_result"
        }
      ],
      "source": [
        "#contador de variavel com mais de 4000 observaçoes\n",
        "df_count_var = df['DescSitRes'].fillna('missing').value_counts(dropna= False)\n",
        "df_count_var[df_count_var>=4000].index"
      ]
    },
    {
      "cell_type": "code",
      "execution_count": null,
      "metadata": {
        "id": "BvwgBtSfRyIw",
        "outputId": "ad03c319-89da-45a4-f805-fef9ac778d9f"
      },
      "outputs": [
        {
          "data": {
            "text/html": [
              "<div>\n",
              "<style scoped>\n",
              "    .dataframe tbody tr th:only-of-type {\n",
              "        vertical-align: middle;\n",
              "    }\n",
              "\n",
              "    .dataframe tbody tr th {\n",
              "        vertical-align: top;\n",
              "    }\n",
              "\n",
              "    .dataframe thead th {\n",
              "        text-align: right;\n",
              "    }\n",
              "</style>\n",
              "<table border=\"1\" class=\"dataframe\">\n",
              "  <thead>\n",
              "    <tr style=\"text-align: right;\">\n",
              "      <th></th>\n",
              "      <th>mean</th>\n",
              "      <th>size</th>\n",
              "    </tr>\n",
              "    <tr>\n",
              "      <th>DescSitRes_g</th>\n",
              "      <th></th>\n",
              "      <th></th>\n",
              "    </tr>\n",
              "  </thead>\n",
              "  <tbody>\n",
              "    <tr>\n",
              "      <th>CEDIDA</th>\n",
              "      <td>0.567160</td>\n",
              "      <td>11078</td>\n",
              "    </tr>\n",
              "    <tr>\n",
              "      <th>OUTROS</th>\n",
              "      <td>0.579344</td>\n",
              "      <td>10486</td>\n",
              "    </tr>\n",
              "    <tr>\n",
              "      <th>ALUGADA</th>\n",
              "      <td>0.591743</td>\n",
              "      <td>22623</td>\n",
              "    </tr>\n",
              "    <tr>\n",
              "      <th>COM OS PAIS</th>\n",
              "      <td>0.595922</td>\n",
              "      <td>34033</td>\n",
              "    </tr>\n",
              "    <tr>\n",
              "      <th>outros</th>\n",
              "      <td>0.601266</td>\n",
              "      <td>158</td>\n",
              "    </tr>\n",
              "    <tr>\n",
              "      <th>PROPRIA QUITADA</th>\n",
              "      <td>0.630513</td>\n",
              "      <td>116383</td>\n",
              "    </tr>\n",
              "    <tr>\n",
              "      <th>PROPRIA FINANCIADA</th>\n",
              "      <td>0.633709</td>\n",
              "      <td>5239</td>\n",
              "    </tr>\n",
              "  </tbody>\n",
              "</table>\n",
              "</div>"
            ],
            "text/plain": [
              "                        mean    size\n",
              "DescSitRes_g                        \n",
              "CEDIDA              0.567160   11078\n",
              "OUTROS              0.579344   10486\n",
              "ALUGADA             0.591743   22623\n",
              "COM OS PAIS         0.595922   34033\n",
              "outros              0.601266     158\n",
              "PROPRIA QUITADA     0.630513  116383\n",
              "PROPRIA FINANCIADA  0.633709    5239"
            ]
          },
          "execution_count": 11,
          "metadata": {},
          "output_type": "execute_result"
        }
      ],
      "source": [
        "def create_agrupamento_DescSitRes(df):\n",
        "    if df['DescSitRes'] not in [\n",
        "       'PROPRIA QUITADA', 'COM OS PAIS', 'ALUGADA', 'CEDIDA', 'OUTROS',\n",
        "       'PROPRIA FINANCIADA' ]:\n",
        "        return 'outros'\n",
        "    else :\n",
        "        return df['DescSitRes']\n",
        "\n",
        "df_count_var = df['DescSitRes'].fillna('missing').value_counts(dropna= False)\n",
        "df['DescSitRes_g'] = df[['DescSitRes']].fillna('missing').apply(create_agrupamento_DescSitRes,axis= 1)\n",
        "df[['DescSitRes_g','TARGET_9']].fillna('missing').groupby('DescSitRes_g').agg({'TARGET_9':[np.mean, np.size]})['TARGET_9'].sort_values(by='mean')\n"
      ]
    },
    {
      "cell_type": "code",
      "execution_count": null,
      "metadata": {
        "id": "jX5Q8fWYRyIx",
        "outputId": "7a3463e7-852d-490e-a449-86f1990ef302"
      },
      "outputs": [
        {
          "data": {
            "text/plain": [
              "Index(['SEGUNDO GRAU COMPLETO', 'SUPERIOR COMPLETO', 'SUPERIOR INCOMPLETO',\n",
              "       'PRIMEIRO GRAU COMPLETO', 'SEGUNDO GRAU INCOMPLETO',\n",
              "       'PRIMEIRO GRAU INCOMPLETO', 'POS-GRADUACAO COMPLETA'],\n",
              "      dtype='object')"
            ]
          },
          "execution_count": 12,
          "metadata": {},
          "output_type": "execute_result"
        }
      ],
      "source": [
        "#contador de variavel com mais de 4000 observaçoes\n",
        "df_count_var = df['DescEscol'].fillna('missing').value_counts(dropna= False)\n",
        "df_count_var[df_count_var>=4000].index"
      ]
    },
    {
      "cell_type": "code",
      "execution_count": null,
      "metadata": {
        "id": "Df5DDnMkRyIy",
        "outputId": "b10b8680-6848-49d3-feaf-f100904c24db"
      },
      "outputs": [
        {
          "data": {
            "text/html": [
              "<div>\n",
              "<style scoped>\n",
              "    .dataframe tbody tr th:only-of-type {\n",
              "        vertical-align: middle;\n",
              "    }\n",
              "\n",
              "    .dataframe tbody tr th {\n",
              "        vertical-align: top;\n",
              "    }\n",
              "\n",
              "    .dataframe thead th {\n",
              "        text-align: right;\n",
              "    }\n",
              "</style>\n",
              "<table border=\"1\" class=\"dataframe\">\n",
              "  <thead>\n",
              "    <tr style=\"text-align: right;\">\n",
              "      <th></th>\n",
              "      <th>mean</th>\n",
              "      <th>size</th>\n",
              "    </tr>\n",
              "    <tr>\n",
              "      <th>DescEscol_g</th>\n",
              "      <th></th>\n",
              "      <th></th>\n",
              "    </tr>\n",
              "  </thead>\n",
              "  <tbody>\n",
              "    <tr>\n",
              "      <th>SEGUNDO GRAU INCOMPLETO</th>\n",
              "      <td>0.579703</td>\n",
              "      <td>9617</td>\n",
              "    </tr>\n",
              "    <tr>\n",
              "      <th>PRIMEIRO GRAU INCOMPLETO</th>\n",
              "      <td>0.590462</td>\n",
              "      <td>8031</td>\n",
              "    </tr>\n",
              "    <tr>\n",
              "      <th>PRIMEIRO GRAU COMPLETO</th>\n",
              "      <td>0.595113</td>\n",
              "      <td>11418</td>\n",
              "    </tr>\n",
              "    <tr>\n",
              "      <th>SEGUNDO GRAU COMPLETO</th>\n",
              "      <td>0.605289</td>\n",
              "      <td>100856</td>\n",
              "    </tr>\n",
              "    <tr>\n",
              "      <th>SUPERIOR INCOMPLETO</th>\n",
              "      <td>0.613762</td>\n",
              "      <td>24881</td>\n",
              "    </tr>\n",
              "    <tr>\n",
              "      <th>outros</th>\n",
              "      <td>0.627928</td>\n",
              "      <td>1110</td>\n",
              "    </tr>\n",
              "    <tr>\n",
              "      <th>SUPERIOR COMPLETO</th>\n",
              "      <td>0.649136</td>\n",
              "      <td>38713</td>\n",
              "    </tr>\n",
              "    <tr>\n",
              "      <th>POS-GRADUACAO COMPLETA</th>\n",
              "      <td>0.663379</td>\n",
              "      <td>5374</td>\n",
              "    </tr>\n",
              "  </tbody>\n",
              "</table>\n",
              "</div>"
            ],
            "text/plain": [
              "                              mean    size\n",
              "DescEscol_g                               \n",
              "SEGUNDO GRAU INCOMPLETO   0.579703    9617\n",
              "PRIMEIRO GRAU INCOMPLETO  0.590462    8031\n",
              "PRIMEIRO GRAU COMPLETO    0.595113   11418\n",
              "SEGUNDO GRAU COMPLETO     0.605289  100856\n",
              "SUPERIOR INCOMPLETO       0.613762   24881\n",
              "outros                    0.627928    1110\n",
              "SUPERIOR COMPLETO         0.649136   38713\n",
              "POS-GRADUACAO COMPLETA    0.663379    5374"
            ]
          },
          "execution_count": 14,
          "metadata": {},
          "output_type": "execute_result"
        }
      ],
      "source": [
        "def create_agrupamento_DescEscol(df):\n",
        "    if df['DescEscol'] not in [\n",
        "        'SEGUNDO GRAU COMPLETO', 'SUPERIOR COMPLETO', 'SUPERIOR INCOMPLETO',\n",
        "        'PRIMEIRO GRAU COMPLETO', 'SEGUNDO GRAU INCOMPLETO',\n",
        "        'PRIMEIRO GRAU INCOMPLETO', 'POS-GRADUACAO COMPLETA' ]:\n",
        "        return 'outros'\n",
        "    else :\n",
        "        return df['DescEscol']\n",
        "\n",
        "df_count_var = df['DescEscol'].fillna('missing').value_counts(dropna= False)\n",
        "df['DescEscol_g'] = df[['DescEscol']].fillna('missing').apply(create_agrupamento_DescEscol,axis= 1)\n",
        "df[['DescEscol_g','TARGET_9']].fillna('missing').groupby('DescEscol_g').agg({'TARGET_9':[np.mean, np.size]})['TARGET_9'].sort_values(by='mean')"
      ]
    },
    {
      "cell_type": "code",
      "execution_count": null,
      "metadata": {
        "collapsed": true,
        "id": "R8djjQg8RyIz"
      },
      "outputs": [],
      "source": [
        "#apaga variaveis\n",
        "df = df.drop(['DescCategProf','UF','DtPrimCompra','DescSitRes','DescEscol'], axis=1)\n"
      ]
    },
    {
      "cell_type": "markdown",
      "metadata": {
        "id": "jSUcJAVdRyI0"
      },
      "source": [
        "### Transforma variaveis numericas em categoricas"
      ]
    },
    {
      "cell_type": "code",
      "execution_count": null,
      "metadata": {
        "collapsed": true,
        "id": "rn29x8UFRyI1"
      },
      "outputs": [],
      "source": [
        "##RECALSSIFICA AS VARIAVEIS\n",
        "\n",
        "df['CLUSTER'][df['CLUSTER'] == -99999] = 'S/CLUSTER'\n",
        "df['CLUSTER'][df['CLUSTER'] == 1] = 'CLUSTER_1'\n",
        "df['CLUSTER'][df['CLUSTER'] == 2] = 'CLUSTER_2'\n",
        "df['CLUSTER'][df['CLUSTER'] == 3] = 'CLUSTER_3'\n",
        "df['CLUSTER'][df['CLUSTER'] == 4] = 'CLUSTER_4'\n",
        "df['CLUSTER'][df['CLUSTER'] == 5] = 'CLUSTER_5'\n",
        "df['CLUSTER'][df['CLUSTER'] == 6] = 'CLUSTER_6'\n",
        "df['CLUSTER'][df['CLUSTER'] == 7] = 'CLUSTER_7'\n",
        "\n",
        "df['IndVeiculo'][df['IndVeiculo'] == 0] = 'S/VEICULO'\n",
        "df['IndVeiculo'][df['IndVeiculo'] == 1] = 'C/VEICULO'\n",
        "\n",
        "df['F_CODCA'][df['F_CODCA'] == 0] = 'S/ATRASO'\n",
        "df['F_CODCA'][df['F_CODCA'] == 1] = 'C/ATRASO'\n",
        "df['F_CODCA'][df['F_CODCA'] == -99999] = 'S/INF_ATRASO'\n",
        "\n",
        "df['FLAG_EMAIL'][df['FLAG_EMAIL'] == 0] = 'S/EMAIL'\n",
        "df['FLAG_EMAIL'][df['FLAG_EMAIL'] == 1] = 'C/EMAIL'\n",
        "\n",
        "df['FLG_CONHECE_EMPRESITMO'][df['FLG_CONHECE_EMPRESITMO'] == 0] = 'NAO CONHECE EMPRESTIMO'\n",
        "df['FLG_CONHECE_EMPRESITMO'][df['FLG_CONHECE_EMPRESITMO'] == 1] = 'CONHECE EMPRESTIMO'\n",
        "\n",
        "df['FLG_PF'][df['FLG_PF'] == 0] = 'S/PF'\n",
        "df['FLG_PF'][df['FLG_PF'] == 1] = 'C/PF'\n",
        "\n",
        "df['PF_CANCELADO'][df['PF_CANCELADO'] == 0] = 'S/PF_CANCELADO'\n",
        "df['PF_CANCELADO'][df['PF_CANCELADO'] == 1] = 'C/PF_CANCELADO'\n",
        "\n",
        "df['flg_emprestimo_ativo'][df['flg_emprestimo_ativo'] == 0] = 'S/EMP_ATIVO'\n",
        "df['flg_emprestimo_ativo'][df['flg_emprestimo_ativo'] == 1] = 'C/EMP_ATIVO'\n",
        "\n",
        "df['flg_emprestimo_inativo'][df['flg_emprestimo_inativo'] == 0] = 'S/EMP_INATIVO'\n",
        "df['flg_emprestimo_inativo'][df['flg_emprestimo_inativo'] == 1] = 'C/EMP_INATIVO'\n",
        "\n",
        "df['flg_saque_facil_ativo'][df['flg_saque_facil_ativo'] == 0] = 'S/SAQUE_FACIL_ATIVO'\n",
        "df['flg_saque_facil_ativo'][df['flg_saque_facil_ativo'] == 1] = 'C/SAQUE_FACIL_ATIVO'\n",
        "\n",
        "df['flg_saque_facil_inativo'][df['flg_saque_facil_inativo'] == 0] = 'S/SAQUE_FACIL_INATIVO'\n",
        "df['flg_saque_facil_inativo'][df['flg_saque_facil_inativo'] == 1] = 'C/SAQUE_FACIL_INATIVO'\n",
        "\n",
        ""
      ]
    },
    {
      "cell_type": "markdown",
      "metadata": {
        "id": "ZleRyynCRyI2"
      },
      "source": [
        "### Separando as variáveis"
      ]
    },
    {
      "cell_type": "code",
      "execution_count": null,
      "metadata": {
        "id": "FdhQmOIbRyI4",
        "outputId": "21d83a8e-6060-47f3-9fb5-28c3ff826230"
      },
      "outputs": [
        {
          "name": "stdout",
          "output_type": "stream",
          "text": [
            " Variáveis categóricas : \n",
            "['TP_CARTAO', 'SEGMENTO', 'FLG_PF', 'PF_CANCELADO', 'flg_saque_facil_ativo', 'flg_saque_facil_inativo', 'flg_emprestimo_ativo', 'flg_emprestimo_inativo', 'IndVeiculo', 'FLAG_EMAIL', 'DescTipRes', 'DescEstCivil', 'DescSex', 'CodRegiao', 'CLUSTER', 'F_CODCA', 'FX_LIM2', 'FLG_CONHECE_EMPRESITMO', 'fx_perc_utilizacao', 'UF_g', 'DescCategProf_g', 'DescSitRes_g', 'DescEscol_g']\n",
            " Variáveis numéricas : \n",
            "['SAFRA_COMPRA', 'QtdFilho', 'QtdFilhoMenor', 'ValRendaTit', 'ValRendaFam', 'IndCojg', 'IDADE', 'ANOS_CADASTRO', 'IndPop', 'perc_utilizacao', 'ValLimCred']\n"
          ]
        }
      ],
      "source": [
        "features_numeric =[]\n",
        "features_char = []\n",
        "\n",
        "for var in df.columns:\n",
        "    if (var != 'TARGET_9') :\n",
        "        if df.dtypes[var] == 'O':\n",
        "            features_char.append(var)\n",
        "        else:\n",
        "            features_numeric.append(var)\n",
        "print( ' Variáveis categóricas : ')\n",
        "print(features_char)\n",
        "print( ' Variáveis numéricas : ')\n",
        "print(features_numeric)"
      ]
    },
    {
      "cell_type": "code",
      "execution_count": null,
      "metadata": {
        "collapsed": true,
        "id": "QusZQ1jrRyI5"
      },
      "outputs": [],
      "source": [
        "def analise_cat_1(df,var,label = '',fl_ordena=0, num = False, q = 0, q2 = 0, y = 'TARGET_9'):\n",
        "    if label == '':\n",
        "        label = var\n",
        "    df_ = df.copy()\n",
        "    if num:\n",
        "        if q == 0:\n",
        "            if q2 == 0:\n",
        "                df_[var+'_cat'] = pd.qcut(df_[var],q= [0.0,0.2,0.5,0.8,1.0],retbins=True,duplicates='drop')[0].cat.add_categories('missing')\n",
        "                var= var+'_cat'\n",
        "            else:\n",
        "                df_[var+'_cat'] = pd.qcut(df_[var],q= q2,retbins=True,duplicates='drop')[0].cat.add_categories('missing')\n",
        "                var= var+'_cat'\n",
        "        else :\n",
        "            df_[var+'_cat'] = pd.cut(df_[var],bins=q).cat.add_categories('missing')\n",
        "            var= var+'_cat'\n",
        "    print('\\n')\n",
        "    print('Análise da variável {}'.format(var))\n",
        "    print('# valores distintos {}'.format(df_[var].nunique()))\n",
        "    try:\n",
        "        df_[var] = df_[var].fillna('missing')\n",
        "    except :\n",
        "        df_[var] = df_[var].cat.add_categories('missing').fillna('missing')\n",
        "\n",
        "    total_compra = df_[y].sum()\n",
        "    total_sem_compra = df_.shape[0] - df_[y].sum()\n",
        "\n",
        "    def tx(x):\n",
        "        return sum(x)*100/sum(1 -x +x)\n",
        "    def pct(x):\n",
        "        return sum(1-x+x)*1.0/ (df_.shape[0])\n",
        "    def pct_compra(x):\n",
        "        return (sum(x)/total_compra )\n",
        "    def rr(x):\n",
        "        return (sum(x)/total_compra )/(sum(1-x)/total_sem_compra)\n",
        "    def WoE(x):\n",
        "        return np.log(rr(x))\n",
        "    def IV(x):\n",
        "        return -(sum(1-x)/total_sem_compra - sum(x)/total_compra)*WoE(x)\n",
        "    s = df_.groupby(var).agg({y: [np.size,pct,pct_maus, tx,rr,WoE,IV]})[y]\n",
        "    def color_negative_green(val):\n",
        "        color = 'green' if val < 0 else 'black'\n",
        "        return 'color: %s' % color\n",
        "    print('IV : {:.3f}'.format(s.IV.sum()))\n",
        "    #print('Beta : {:.3f}'.format(dic_beta[var]))\n",
        "    t = s.style.applymap(color_negative_green)\n",
        "    display(pd.DataFrame(df_[var].value_counts()).join(pd.DataFrame(df_[var].value_counts(normalize= True)*100), lsuffix = 'k').rename(columns = {var+'k': '#', var: '%'}))\n",
        "    display(t)\n",
        "    by_var = df_.groupby(var).agg({y:[np.size, np.mean]})[y]\n",
        "    if fl_ordena ==1 :\n",
        "        by_var =  by_var.sort_values(by = 'mean')\n",
        "    Y1 = by_var['size']\n",
        "    Y2 =by_var['mean']\n",
        "    Y_mean = np.ones(shape=(len(Y1.index)))* df_[y].mean()\n",
        "    index =  np.arange(len(Y1.index))\n",
        "    with plt.style.context('my_custom_style'):\n",
        "        plt.bar(index,Y1,alpha = 0.3, color= 'gray')\n",
        "        plt.grid(False)\n",
        "        plt.xticks(rotation = 20         if var[:2] not in ( 'fl', 'cd')  else 0)\n",
        "        plt.ylabel('# registros')\n",
        "        plt.twinx()\n",
        "        plt.gca().set_xticks(index)\n",
        "        plt.gca().set_xticklabels([Y1.index[i] for i in index], rotation = 40)\n",
        "        plt.plot(index,Y_mean,label=  'tx. média evento')\n",
        "        plt.plot(index,Y2,marker = 'o',label=  'tx. evento')\n",
        "        plt.gca().set_yticklabels([ ' {:.2f}%'.format( i*100) for i in plt.gca().get_yticks()])\n",
        "        plt.grid(False)\n",
        "        plt.title('Bivariada  {}'.format(label))\n",
        "        plt.ylabel('tx. evento')\n",
        "        plt.xlabel(label)\n",
        "        if var[:2] in ( 'fl', 'cd'):\n",
        "            plt.legend(loc= 9,bbox_to_anchor=(0.5, -0.1))\n",
        "        else:\n",
        "            plt.legend(loc= 9,bbox_to_anchor=(0.5, -0.35))\n",
        "        plt.show()\n",
        "        print(s.IV.sum())\n",
        "        return  (var , s.IV.sum())\n",
        "        print('\\n')"
      ]
    },
    {
      "cell_type": "code",
      "execution_count": null,
      "metadata": {
        "id": "WWG8w-1lRyI8",
        "outputId": "3108847a-90f5-415d-cc5f-46f38f4bb86a"
      },
      "outputs": [
        {
          "name": "stdout",
          "output_type": "stream",
          "text": [
            "Total de bons : 122822 \n",
            "Total de maus : 77178\n"
          ]
        }
      ],
      "source": [
        "total_bons = df['TARGET_9'].sum()\n",
        "total_maus = df.shape[0] - total_bons\n",
        "\n",
        "print('Total de bons : {} \\nTotal de maus : {}'.format(total_bons,total_maus))"
      ]
    },
    {
      "cell_type": "code",
      "execution_count": null,
      "metadata": {
        "id": "3weAZwNBRyI9",
        "outputId": "28879ac5-6f9c-4a2e-a60d-84ca0db0d036"
      },
      "outputs": [
        {
          "ename": "NameError",
          "evalue": "name 'TP_CARTAO' is not defined",
          "output_type": "error",
          "traceback": [
            "\u001b[1;31m---------------------------------------------------------------------------\u001b[0m",
            "\u001b[1;31mNameError\u001b[0m                                 Traceback (most recent call last)",
            "\u001b[1;32m<ipython-input-31-5122e817927d>\u001b[0m in \u001b[0;36m<module>\u001b[1;34m\u001b[0m\n\u001b[1;32m----> 1\u001b[1;33m \u001b[0manalise_cat_1\u001b[0m\u001b[1;33m(\u001b[0m\u001b[0mTP_CARTAO\u001b[0m\u001b[1;33m)\u001b[0m\u001b[1;33m\u001b[0m\u001b[1;33m\u001b[0m\u001b[0m\n\u001b[0m",
            "\u001b[1;31mNameError\u001b[0m: name 'TP_CARTAO' is not defined"
          ]
        }
      ],
      "source": [
        "\n",
        "for var in features_char:\n",
        "    df[var+'_woe'] = np.nan\n",
        "    s=df[[var, 'TARGET_9']].fillna('missing').groupby(var).agg({'TARGET_9':[np.mean, np.size, lambda x : np.log((sum(1-x)/total_bons)/(sum(x)/total_maus))   ]}).rename(columns={'mean': 'tx_evento', 'size': 'N', '<lambda>': 'woe'})['TARGET_9'].sort_values(by='woe')\n",
        "    display(s)\n",
        "    for i in s.index:\n",
        "        df.loc[df[var] == i,[var+'_woe'] ]= s.loc[i]['woe']"
      ]
    },
    {
      "cell_type": "markdown",
      "metadata": {
        "id": "gdN_8bv1RyI-"
      },
      "source": [
        "## Transforma variaveis categoricas em dummy"
      ]
    },
    {
      "cell_type": "code",
      "execution_count": null,
      "metadata": {
        "collapsed": true,
        "id": "AGJvOK4NRyI-"
      },
      "outputs": [],
      "source": [
        "pd.options.mode.chained_assignment = None  #hide any pandas warnings\n",
        "df = pd.get_dummies(df, drop_first=True)"
      ]
    },
    {
      "cell_type": "code",
      "execution_count": null,
      "metadata": {
        "collapsed": true,
        "id": "LMaDOyNRRyI_"
      },
      "outputs": [],
      "source": [
        "from sklearn.model_selection  import train_test_split\n",
        "X_train, X_test, y_train, y_test = train_test_split(df.drop('TARGET_9', 1), df['TARGET_9'], test_size = .2, random_state=10)\n",
        "#split the data"
      ]
    },
    {
      "cell_type": "code",
      "execution_count": null,
      "metadata": {
        "collapsed": true,
        "id": "Xt6zclb3RyI_"
      },
      "outputs": [],
      "source": [
        "def calcula_indicadores(est, nome_est):\n",
        "\n",
        "    y_pred_ = [i[1] for i in est.predict_proba(X_test)]\n",
        "    y_test_ = y_test\n",
        "    t = pd.DataFrame( {'fl_resposta':y_test_, 'p': y_pred_})\n",
        "\n",
        "    ##### Cálculo do KS #######\n",
        "\n",
        "    ks, std_ks = stats.ks_2samp(t.loc[t.fl_resposta == 0,:]['p'], t.loc[t.fl_resposta == 1,:]['p'])\n",
        "\n",
        "    fpr, tpr, _ = roc_curve(y_test_, y_pred_)\n",
        "    try:\n",
        "        with plt.style.context('my_custom_style'):\n",
        "            plt.plot([0, 1], [0, 1], 'k--')\n",
        "            plt.plot(fpr, tpr, label=nome_est)\n",
        "            plt.xlabel('False positive rate')\n",
        "            plt.ylabel('True positive rate')\n",
        "            plt.title('ROC curve')\n",
        "            plt.legend(loc='best')\n",
        "    except:\n",
        "        plt.plot([0, 1], [0, 1], 'k--')\n",
        "        plt.plot(fpr, tpr, label=nome_est)\n",
        "        plt.xlabel('False positive rate')\n",
        "        plt.ylabel('True positive rate')\n",
        "        plt.title('ROC curve')\n",
        "        plt.legend(loc='best')\n",
        "\n",
        "    return [nome_est, round((2*roc_auc_score(y_test_,y_pred_) -1)*100,2) ,round(ks*100,2) ,round(log_loss(y_test_, y_pred_,normalize= False),2) ]"
      ]
    },
    {
      "cell_type": "code",
      "execution_count": null,
      "metadata": {
        "collapsed": true,
        "id": "oY8e7g7MRyJA"
      },
      "outputs": [],
      "source": [
        "from sklearn.metrics import roc_curve, log_loss,roc_auc_score\n",
        "from scipy import stats\n",
        "from IPython.display import display\n",
        "\n",
        "def avalia_modelo(estimador):\n",
        "###### público da performance #######\n",
        "    lista_resultados=[]\n",
        "    for est in estimador.keys():\n",
        "        lista_resultados.append(calcula_indicadores(estimador[est], est))\n",
        "    display(pd.DataFrame(lista_resultados, columns= ['Modelo', 'Gini', 'KS', 'logloss']))\n",
        "    plt.show()"
      ]
    },
    {
      "cell_type": "code",
      "execution_count": null,
      "metadata": {
        "collapsed": true,
        "id": "DXb6cTVoRyJC"
      },
      "outputs": [],
      "source": [
        "# 1. XGBoost\n",
        "from xgboost.sklearn import XGBClassifier\n",
        "from sklearn.model_selection import RandomizedSearchCV"
      ]
    },
    {
      "cell_type": "code",
      "execution_count": null,
      "metadata": {
        "collapsed": true,
        "id": "AoI6Hlc8RyJC"
      },
      "outputs": [],
      "source": [
        "xgb = XGBClassifier(base_score=0.5, booster='gbtree', colsample_bylevel=1,\n",
        "       colsample_bytree=0.4, gamma=0.05, learning_rate=0.15,\n",
        "       max_delta_step=0, max_depth=7, min_child_weight=10, missing=-1,\n",
        "       n_estimators=300, n_jobs=16,\n",
        "       objective='binary:logistic', random_state=0, reg_alpha=0,\n",
        "       reg_lambda=1, scale_pos_weight=1, seed=0, silent=True,\n",
        "       subsample=1.0)\n",
        "\n",
        "xgb.fit(X_train,y_train)\n",
        "avalia_modelo({'xgb':xgb})\n"
      ]
    },
    {
      "cell_type": "code",
      "execution_count": null,
      "metadata": {
        "collapsed": true,
        "id": "QioMcUr4RyJD"
      },
      "outputs": [],
      "source": [
        "xgb_clf = XGBClassifier(base_score=0.5, booster='gbtree', colsample_bylevel=1,\n",
        "       colsample_bytree=0.4, gamma=0.01, learning_rate=0.075,\n",
        "       max_delta_step=0, max_depth=5, min_child_weight=10, missing=-1,\n",
        "       n_estimators=300, n_jobs=16,\n",
        "       objective='binary:logistic', random_state=0, reg_alpha=0,\n",
        "       reg_lambda=1, scale_pos_weight=1, seed=0, silent=True,\n",
        "       subsample=0.8)\n",
        "\n",
        "xgb_clf.fit(X_train,y_train)\n",
        "\n",
        "avalia_modelo({'xgb':xgb, 'xgb_clf':xgb_clf})\n"
      ]
    },
    {
      "cell_type": "code",
      "execution_count": null,
      "metadata": {
        "collapsed": true,
        "id": "hSo5IkFsRyJE"
      },
      "outputs": [],
      "source": [
        "from sklearn.ensemble import RandomForestClassifier\n",
        "\n",
        "rf= RandomForestClassifier(bootstrap=False, class_weight= None, criterion='gini',\n",
        "            max_depth=14, max_features='sqrt', max_leaf_nodes=None,\n",
        "            min_impurity_split=1e-07, min_samples_leaf=250,\n",
        "            min_samples_split=2, min_weight_fraction_leaf=0.0,\n",
        "            n_estimators=100, n_jobs=-1, oob_score=False, random_state=0,\n",
        "            verbose=0, warm_start=False)\n",
        "\n",
        "rf.fit(X_train,y_train)\n"
      ]
    },
    {
      "cell_type": "code",
      "execution_count": null,
      "metadata": {
        "collapsed": true,
        "id": "xRoL-9KlRyJE"
      },
      "outputs": [],
      "source": [
        "avalia_modelo({'xgb':xgb, 'xgb_clf':xgb_clf, 'rf ':rf })"
      ]
    },
    {
      "cell_type": "code",
      "execution_count": null,
      "metadata": {
        "collapsed": true,
        "id": "OHOsbrcpRyJF"
      },
      "outputs": [],
      "source": [
        "importances = xgb.feature_importances_\n",
        "indices = np.argsort(importances)[::-1]\n",
        "h = X_train.columns\n",
        "print(\"Feature ranking:\")\n",
        "lables=[]\n",
        "for f in range((X_train.shape[1])):\n",
        "    l= h[indices[f]]\n",
        "    lables.append(l)\n",
        "    print(\"%d. feature %s (%f)\" % (f + 1,l, importances[indices[f]]))"
      ]
    },
    {
      "cell_type": "code",
      "execution_count": null,
      "metadata": {
        "collapsed": true,
        "id": "AbN08rP9RyJG"
      },
      "outputs": [],
      "source": [
        "#Prevê o resultado\n",
        "classifier = xgb.fit(X_train,y_train)\n",
        "predictions =  classifier.predict_proba(X_test)[:,1]\n",
        "print(predictions)\n"
      ]
    },
    {
      "cell_type": "code",
      "execution_count": null,
      "metadata": {
        "collapsed": true,
        "id": "J-Umps2fRyJG"
      },
      "outputs": [],
      "source": [
        "df.shape"
      ]
    },
    {
      "cell_type": "markdown",
      "metadata": {
        "id": "uaZfa1AjRyJM"
      },
      "source": [
        "# escorando a base"
      ]
    },
    {
      "cell_type": "code",
      "execution_count": null,
      "metadata": {
        "collapsed": true,
        "id": "YUGz1SOxRyJN"
      },
      "outputs": [],
      "source": [
        "#importa base de validacao\n",
        "\n",
        "df_tratado_test = pd.read_csv(caminho_arq+'VALIDA_FIEIS_TARGET_9.txt', sep=\";\", encoding = 'latin-')"
      ]
    },
    {
      "cell_type": "code",
      "execution_count": null,
      "metadata": {
        "collapsed": true,
        "id": "oFZoSEEwRyJO"
      },
      "outputs": [],
      "source": [
        "df_tratado_test = df_tratado_test.copy().set_index('CodCli')\n",
        "#print(df_tratado_test\n",
        "#df_tratado_test.head(10)\n",
        "df_tratado_test.shape"
      ]
    },
    {
      "cell_type": "code",
      "execution_count": null,
      "metadata": {
        "collapsed": true,
        "id": "GwJDpk5HRyJO"
      },
      "outputs": [],
      "source": [
        "#apaga variaveis -  base para criacao do modelo nao precisa ter o id cliente\n",
        "\n",
        "\n",
        "#transforma missing em -9999\n",
        "df_tratado_test['CLUSTER'] = df_tratado_test[['CLUSTER']].fillna(-99999)\n",
        "df_tratado_test['F_CODCA'] = df_tratado_test[['F_CODCA']].fillna(-99999)\n",
        "df_tratado_test['perc_utilizacao'] = df_tratado_test[['perc_utilizacao']].fillna(-99999)\n",
        "\n",
        "#agrupa variavel uf e profissao\n",
        "def create_agrupamento_uf(df_tratado_test):\n",
        "    if df_tratado_test['UF'] not in [\n",
        "     'SP', 'RJ', 'PE', 'BA', 'MG', 'RS', 'CE', 'RN', 'PA', 'PR', 'GO', 'AM',\n",
        "       'MA', 'DF', 'SC', 'AL', 'PB' ]:\n",
        "        return 'outros'\n",
        "    else :\n",
        "        return df_tratado_test['UF']\n",
        "\n",
        "df_tratado_test_count_var = df_tratado_test['UF'].fillna('missing').value_counts(dropna= False)\n",
        "df_tratado_test['UF_g'] = df_tratado_test[['UF']].fillna('missing').apply(create_agrupamento_uf,axis= 1)\n",
        "\n",
        "def create_agrupamento_DescCategProf(df_tratado_test):\n",
        "    if df_tratado_test['DescCategProf'] not in [\n",
        "    'AUTONOMO', 'COMERCIARIOS', 'ASSALARIADOS', 'APOSENTADO E PENSIONISTA',\n",
        "       'FUNC. PUBLICO MUNICIPAL', 'FUNC. PUBLICO ESTADUAL',\n",
        "       'APOSENT,PENS,SERV PUBLICO', 'ESTUDANTE', 'PROFESSORES',\n",
        "       'INDUSTRIARIOS, MESTRES', 'FUNCIONARIO PUBLICO', 'EMPRESARIO',\n",
        "       'PREST DE SERVICOS - SAUDE', 'DO LAR', 'EMPREGADOS DOMESTICOS',\n",
        "       'PROFISSIONAL LIBERAL']:\n",
        "        return 'outros'\n",
        "    else :\n",
        "        return df_tratado_test['DescCategProf']\n",
        "\n",
        "df_tratado_test_count_var = df_tratado_test['DescCategProf'].fillna('missing').value_counts(dropna= False)\n",
        "df_tratado_test['DescCategProf_g'] = df_tratado_test[['DescCategProf']].fillna('missing').apply(create_agrupamento_DescCategProf,axis= 1)\n",
        "\n",
        "\n",
        "def create_agrupamento_DescSitRes(df_tratado_test):\n",
        "    if df_tratado_test['DescSitRes'] not in [\n",
        "       'PROPRIA QUITADA', 'COM OS PAIS', 'ALUGADA', 'CEDIDA', 'OUTROS',\n",
        "       'PROPRIA FINANCIADA' ]:\n",
        "        return 'outros'\n",
        "    else :\n",
        "        return df_tratado_test['DescSitRes']\n",
        "\n",
        "df_tratado_test_count_var = df_tratado_test['DescSitRes'].fillna('missing').value_counts(dropna= False)\n",
        "df_tratado_test['DescSitRes_g'] = df_tratado_test[['DescSitRes']].fillna('missing').apply(create_agrupamento_DescSitRes,axis= 1)\n",
        "\n",
        "\n",
        "def create_agrupamento_DescEscol(df_tratado_test):\n",
        "    if df_tratado_test['DescEscol'] not in [\n",
        "        'SEGUNDO GRAU COMPLETO', 'SUPERIOR COMPLETO', 'SUPERIOR INCOMPLETO',\n",
        "        'PRIMEIRO GRAU COMPLETO', 'SEGUNDO GRAU INCOMPLETO',\n",
        "        'PRIMEIRO GRAU INCOMPLETO', 'POS-GRADUACAO COMPLETA' ]:\n",
        "        return 'outros'\n",
        "    else :\n",
        "        return df_tratado_test['DescEscol']\n",
        "\n",
        "df_tratado_test_count_var = df_tratado_test['DescEscol'].fillna('missing').value_counts(dropna= False)\n",
        "df_tratado_test['DescEscol_g'] = df_tratado_test[['DescEscol']].fillna('missing').apply(create_agrupamento_DescEscol,axis= 1)\n",
        "\n",
        "#apaga variaveis\n",
        "df_tratado_test = df_tratado_test.drop(['DescCategProf','UF','DtPrimCompra','DescEscol','DescSitRes'], axis=1)\n",
        "\n",
        "\n",
        "##RECALSSIFICA AS VARIAVEIS\n",
        "\n",
        "df_tratado_test['CLUSTER'][df_tratado_test['CLUSTER'] == -99999] = 'S/CLUSTER'\n",
        "df_tratado_test['CLUSTER'][df_tratado_test['CLUSTER'] == 1] = 'CLUSTER_1'\n",
        "df_tratado_test['CLUSTER'][df_tratado_test['CLUSTER'] == 2] = 'CLUSTER_2'\n",
        "df_tratado_test['CLUSTER'][df_tratado_test['CLUSTER'] == 3] = 'CLUSTER_3'\n",
        "df_tratado_test['CLUSTER'][df_tratado_test['CLUSTER'] == 4] = 'CLUSTER_4'\n",
        "df_tratado_test['CLUSTER'][df_tratado_test['CLUSTER'] == 5] = 'CLUSTER_5'\n",
        "df_tratado_test['CLUSTER'][df_tratado_test['CLUSTER'] == 6] = 'CLUSTER_6'\n",
        "df_tratado_test['CLUSTER'][df_tratado_test['CLUSTER'] == 7] = 'CLUSTER_7'\n",
        "\n",
        "df_tratado_test['IndVeiculo'][df_tratado_test['IndVeiculo'] == 0] = 'S/VEICULO'\n",
        "df_tratado_test['IndVeiculo'][df_tratado_test['IndVeiculo'] == 1] = 'C/VEICULO'\n",
        "\n",
        "df_tratado_test['F_CODCA'][df_tratado_test['F_CODCA'] == 0] = 'S/ATRASO'\n",
        "df_tratado_test['F_CODCA'][df_tratado_test['F_CODCA'] == 1] = 'C/ATRASO'\n",
        "df_tratado_test['F_CODCA'][df_tratado_test['F_CODCA'] == -99999] = 'S/INF_ATRASO'\n",
        "\n",
        "df_tratado_test['FLAG_EMAIL'][df_tratado_test['FLAG_EMAIL'] == 0] = 'S/EMAIL'\n",
        "df_tratado_test['FLAG_EMAIL'][df_tratado_test['FLAG_EMAIL'] == 1] = 'C/EMAIL'\n",
        "\n",
        "df_tratado_test['FLG_CONHECE_EMPRESITMO'][df_tratado_test['FLG_CONHECE_EMPRESITMO'] == 0] = 'NAO CONHECE EMPRESTIMO'\n",
        "df_tratado_test['FLG_CONHECE_EMPRESITMO'][df_tratado_test['FLG_CONHECE_EMPRESITMO'] == 1] = 'CONHECE EMPRESTIMO'\n",
        "\n",
        "df_tratado_test['FLG_PF'][df_tratado_test['FLG_PF'] == 0] = 'S/PF'\n",
        "df_tratado_test['FLG_PF'][df_tratado_test['FLG_PF'] == 1] = 'C/PF'\n",
        "\n",
        "df_tratado_test['PF_CANCELADO'][df_tratado_test['PF_CANCELADO'] == 0] = 'S/PF_CANCELADO'\n",
        "df_tratado_test['PF_CANCELADO'][df_tratado_test['PF_CANCELADO'] == 1] = 'C/PF_CANCELADO'\n",
        "\n",
        "df_tratado_test['flg_emprestimo_ativo'][df_tratado_test['flg_emprestimo_ativo'] == 0] = 'S/EMP_ATIVO'\n",
        "df_tratado_test['flg_emprestimo_ativo'][df_tratado_test['flg_emprestimo_ativo'] == 1] = 'C/EMP_ATIVO'\n",
        "\n",
        "df_tratado_test['flg_emprestimo_inativo'][df_tratado_test['flg_emprestimo_inativo'] == 0] = 'S/EMP_INATIVO'\n",
        "df_tratado_test['flg_emprestimo_inativo'][df_tratado_test['flg_emprestimo_inativo'] == 1] = 'C/EMP_INATIVO'\n",
        "\n",
        "df_tratado_test['flg_saque_facil_ativo'][df_tratado_test['flg_saque_facil_ativo'] == 0] = 'S/SAQUE_FACIL_ATIVO'\n",
        "df_tratado_test['flg_saque_facil_ativo'][df_tratado_test['flg_saque_facil_ativo'] == 1] = 'C/SAQUE_FACIL_ATIVO'\n",
        "\n",
        "df_tratado_test['flg_saque_facil_inativo'][df_tratado_test['flg_saque_facil_inativo'] == 0] = 'S/SAQUE_FACIL_INATIVO'\n",
        "df_tratado_test['flg_saque_facil_inativo'][df_tratado_test['flg_saque_facil_inativo'] == 1] = 'C/SAQUE_FACIL_INATIVO'\n",
        "\n",
        "# Transformando as variaveis catergoricas em dummy\n",
        "pd.options.mode.chained_assignment = None  #hide any pandas warnings\n",
        "df_tratado_test = pd.get_dummies(df_tratado_test, drop_first=True)\n",
        "\n"
      ]
    },
    {
      "cell_type": "code",
      "execution_count": null,
      "metadata": {
        "collapsed": true,
        "id": "h_Hpj4VqRyJQ"
      },
      "outputs": [],
      "source": [
        "df_tratado_test.shape"
      ]
    },
    {
      "cell_type": "code",
      "execution_count": null,
      "metadata": {
        "collapsed": true,
        "id": "OCpLhT_zRyJR"
      },
      "outputs": [],
      "source": [
        "#apaga variaveis\n",
        "df_tratado_test = df_tratado_test.drop(['DescTipRes_NÃO IDENTIFICADO'], axis=1)\n",
        "\n"
      ]
    },
    {
      "cell_type": "markdown",
      "metadata": {
        "id": "deuvjJXNRyJR"
      },
      "source": [
        "## Checando as variáveis"
      ]
    },
    {
      "cell_type": "code",
      "execution_count": null,
      "metadata": {
        "collapsed": true,
        "id": "kTpCag1zRyJS"
      },
      "outputs": [],
      "source": [
        "for var in df_tratado_test.columns:\n",
        "    if var not in df.columns:\n",
        "        print(var)\n",
        ""
      ]
    },
    {
      "cell_type": "code",
      "execution_count": null,
      "metadata": {
        "collapsed": true,
        "id": "riJFlB6fRyJT"
      },
      "outputs": [],
      "source": [
        "for var in df.columns:\n",
        "    if var not in df_tratado_test.columns:\n",
        "        print(var)"
      ]
    },
    {
      "cell_type": "code",
      "execution_count": null,
      "metadata": {
        "collapsed": true,
        "id": "Pj4vXOceRyJT"
      },
      "outputs": [],
      "source": [
        "print('The size of the training set: ', df.shape)\n",
        "print('The size of the training set: ', df_tratado_test.shape)"
      ]
    },
    {
      "cell_type": "code",
      "execution_count": null,
      "metadata": {
        "collapsed": true,
        "id": "SLacQqgbRyJU"
      },
      "outputs": [],
      "source": [
        "predictions2 =  classifier.predict_proba(df_tratado_test)[:,1]\n",
        "print(predictions2)"
      ]
    },
    {
      "cell_type": "code",
      "execution_count": null,
      "metadata": {
        "collapsed": true,
        "id": "ZACZ-yNiRyJV"
      },
      "outputs": [],
      "source": [
        "fieis_submission = pd.DataFrame ({\"CodCli\": df_tratado_test.index,\n",
        "                                  \"Target\": predictions2})\n"
      ]
    },
    {
      "cell_type": "code",
      "execution_count": null,
      "metadata": {
        "collapsed": true,
        "id": "QMcSt-7ERyJW"
      },
      "outputs": [],
      "source": [
        "fieis_submission.to_csv('C:\\\\Users\\\\60002991\\\\_Modelos_dna\\\\piroca.txt', index = False)\n",
        "\n",
        "fieis_submission.sample(10)"
      ]
    },
    {
      "cell_type": "code",
      "execution_count": null,
      "metadata": {
        "collapsed": true,
        "id": "HtdoVl_MRyJX"
      },
      "outputs": [],
      "source": []
    }
  ],
  "metadata": {
    "kernelspec": {
      "display_name": "Python 3",
      "language": "python",
      "name": "python3"
    },
    "language_info": {
      "codemirror_mode": {
        "name": "ipython",
        "version": 3
      },
      "file_extension": ".py",
      "mimetype": "text/x-python",
      "name": "python",
      "nbconvert_exporter": "python",
      "pygments_lexer": "ipython3",
      "version": "3.6.1"
    },
    "colab": {
      "provenance": [],
      "include_colab_link": true
    }
  },
  "nbformat": 4,
  "nbformat_minor": 0
}